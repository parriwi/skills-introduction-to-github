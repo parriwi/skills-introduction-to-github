{
  "nbformat": 4,
  "nbformat_minor": 0,
  "metadata": {
    "colab": {
      "provenance": [],
      "authorship_tag": "ABX9TyNeaWDxd9bfM8LGs3eYeBNR",
      "include_colab_link": true
    },
    "kernelspec": {
      "name": "python3",
      "display_name": "Python 3"
    },
    "language_info": {
      "name": "python"
    }
  },
  "cells": [
    {
      "cell_type": "markdown",
      "metadata": {
        "id": "view-in-github",
        "colab_type": "text"
      },
      "source": [
        "<a href=\"https://colab.research.google.com/github/parriwi/skills-introduction-to-github/blob/main/Untitled0.ipynb\" target=\"_parent\"><img src=\"https://colab.research.google.com/assets/colab-badge.svg\" alt=\"Open In Colab\"/></a>"
      ]
    },
    {
      "cell_type": "code",
      "execution_count": null,
      "metadata": {
        "id": "1-f_I6fIjgDi"
      },
      "outputs": [],
      "source": [
        "# prompt: load an sql database from a local folder and display the structure\n",
        "\n",
        "import sqlite3\n",
        "import pandas as pd\n",
        "\n",
        "# Replace 'your_database.db' with the actual name of your database file\n",
        "database_file = 'stock_hist.db'\n",
        "\n",
        "# Connect to the SQLite database\n",
        "conn = sqlite3.connect(database_file)\n",
        "\n",
        "# Get a list of all tables in the database\n",
        "cursor = conn.cursor()\n",
        "cursor.execute(\"SELECT name FROM sqlite_master WHERE type='table';\")\n",
        "tables = cursor.fetchall()\n",
        "\n",
        "# Print the structure of each table\n",
        "for table in tables:\n",
        "    table_name = table[0]\n",
        "    print(f\"Table: {table_name}\")\n",
        "\n",
        "    # Get table schema\n",
        "    cursor.execute(f\"PRAGMA table_info({table_name})\")\n",
        "    columns = cursor.fetchall()\n",
        "\n",
        "    # Print column information\n",
        "    for column in columns:\n",
        "        print(f\"  Column: {column[1]} ({column[2]})\")\n",
        "\n",
        "    # Display the first few rows of data (optional)\n",
        "    print(\"First few rows:\")\n",
        "    df = pd.read_sql_query(f\"SELECT * FROM {table_name} LIMIT 5\", conn)\n",
        "    print(df)\n",
        "    print(\"-\" * 20)\n",
        "\n",
        "# Close the database connection\n",
        "conn.close()\n"
      ]
    }
  ]
}